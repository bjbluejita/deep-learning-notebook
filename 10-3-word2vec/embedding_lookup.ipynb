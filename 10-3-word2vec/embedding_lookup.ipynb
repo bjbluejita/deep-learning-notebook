{
 "cells": [
  {
   "cell_type": "code",
   "execution_count": null,
   "metadata": {
    "collapsed": true
   },
   "outputs": [],
   "source": []
  },
  {
   "cell_type": "markdown",
   "metadata": {},
   "source": [
    "实际上tf.nn.embedding_lookup的作用就是找到要寻找的embedding data中的对应的行下的vector\n",
    "![]( https://upload-images.jianshu.io/upload_images/1129359-51ec3c90c272f132.jpg?imageMogr2/auto-orient/strip%7CimageView2/2/w/621/format/webp '示例')"
   ]
  },
  {
   "cell_type": "code",
   "execution_count": 4,
   "metadata": {
    "collapsed": true
   },
   "outputs": [],
   "source": [
    "import tensorflow as tf\n",
    "import numpy as np\n",
    "\n",
    "p = tf.Variable( tf.random_normal( [10,1] ) )\n",
    "b = tf.nn.embedding_lookup( p, [1, 3] ) #查找张量中的序号为1和3的"
   ]
  },
  {
   "cell_type": "code",
   "execution_count": null,
   "metadata": {},
   "outputs": [],
   "source": [
    "with tf.Session() as sess:\n",
    "    sess.run( tf.global_variables_initializer() )\n",
    "    print( 'b:', sess.run( b ) )\n",
    "    print( 'p:', sess.run( p ) )"
   ]
  },
  {
   "cell_type": "code",
   "execution_count": 15,
   "metadata": {},
   "outputs": [],
   "source": [
    "a = [[0.1, 0.2, 0.3], [1.1, 1.2, 1.3], [2.1, 2.2, 2.3], [3.1, 3.2, 3.3], [4.1, 4.2, 4.3]]\n",
    "a = np.asarray( a )\n",
    "idx1 = tf.Variable( [0, 2, 3, 1 ], tf.int32 )\n",
    "idx2 = tf.Variable( [ [0, 2, 3, 1 ], [ 4, 0, 2, 2] ], tf.int32 )\n",
    "out1 = tf.nn.embedding_lookup( a, idx1 )\n",
    "out2 = tf.nn.embedding_lookup( a, idx2 )\n",
    "init = tf.global_variables_initializer()"
   ]
  },
  {
   "cell_type": "code",
   "execution_count": 17,
   "metadata": {},
   "outputs": [
    {
     "name": "stdout",
     "output_type": "stream",
     "text": [
      "out1 [[0.1 0.2 0.3]\n",
      " [2.1 2.2 2.3]\n",
      " [3.1 3.2 3.3]\n",
      " [1.1 1.2 1.3]]\n",
      "out2 [[[0.1 0.2 0.3]\n",
      "  [2.1 2.2 2.3]\n",
      "  [3.1 3.2 3.3]\n",
      "  [1.1 1.2 1.3]]\n",
      "\n",
      " [[4.1 4.2 4.3]\n",
      "  [0.1 0.2 0.3]\n",
      "  [2.1 2.2 2.3]\n",
      "  [2.1 2.2 2.3]]]\n"
     ]
    }
   ],
   "source": [
    "with tf.Session() as sess:\n",
    "    sess.run( init )\n",
    "    print( 'out1', sess.run( out1 ) )\n",
    "    print( 'out2', sess.run( out2 ) )"
   ]
  },
  {
   "cell_type": "code",
   "execution_count": null,
   "metadata": {
    "collapsed": true
   },
   "outputs": [],
   "source": []
  }
 ],
 "metadata": {
  "kernelspec": {
   "display_name": "Python 3",
   "language": "python",
   "name": "python3"
  },
  "language_info": {
   "codemirror_mode": {
    "name": "ipython",
    "version": 3
   },
   "file_extension": ".py",
   "mimetype": "text/x-python",
   "name": "python",
   "nbconvert_exporter": "python",
   "pygments_lexer": "ipython3",
   "version": "3.6.8"
  }
 },
 "nbformat": 4,
 "nbformat_minor": 2
}
